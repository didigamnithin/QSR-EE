{
 "cells": [
  {
   "cell_type": "code",
   "execution_count": 1,
   "id": "bd3cdbea",
   "metadata": {},
   "outputs": [],
   "source": [
    "import pandas as pd"
   ]
  },
  {
   "cell_type": "code",
   "execution_count": 2,
   "id": "9a32534a",
   "metadata": {},
   "outputs": [],
   "source": [
    "dd_sales = pd.read_csv('SALES_viewByOrder_2025-06-22_2025-08-22_Kb0yU_2025-08-28T17-46-06Z.csv')\n",
    "\n",
    "dd_fin_detailed = pd.read_csv('financial_2025-06-22_2025-08-22_SJnhV_2025-08-28T17-45-19Z/FINANCIAL_DETAILED_TRANSACTIONS_2025-06-22_2025-08-22_SJnhV_2025-08-28T17-45-19Z.csv')\n",
    "\n",
    "dd_fin_error = pd.read_csv('financial_2025-06-22_2025-08-22_SJnhV_2025-08-28T17-45-19Z/FINANCIAL_ERROR_CHARGES_AND_ADJUSTMENTS_2025-06-22_2025-08-22_SJnhV_2025-08-28T17-45-19Z.csv')\n",
    "\n",
    "dd_fin_payout = pd.read_csv('financial_2025-06-22_2025-08-22_SJnhV_2025-08-28T17-45-19Z/FINANCIAL_PAYOUT_SUMMARY_2025-06-22_2025-08-22_SJnhV_2025-08-28T17-45-19Z.csv')\n",
    "\n",
    "dd_fin_simplified = pd.read_csv('financial_2025-06-22_2025-08-22_SJnhV_2025-08-28T17-45-19Z/FINANCIAL_SIMPLIFIED_TRANSACTIONS_2025-06-22_2025-08-22_SJnhV_2025-08-28T17-45-19Z.csv')\n",
    "\n",
    "dd_marketing_promo = pd.read_csv('marketing_2025-06-22_2025-08-22_FLGlw_2025-08-28T17-46-33Z/MARKETING_PROMOTION_2025-06-22_2025-08-22_FLGlw_2025-08-28T17-46-33Z.csv')\n",
    "\n",
    "dd_marketing_sponsered = pd.read_csv('marketing_2025-06-22_2025-08-22_FLGlw_2025-08-28T17-46-33Z/MARKETING_SPONSORED_LISTING_2025-06-22_2025-08-22_FLGlw_2025-08-28T17-46-33Z.csv')\n"
   ]
  },
  {
   "cell_type": "code",
   "execution_count": null,
   "id": "2d205009",
   "metadata": {},
   "outputs": [],
   "source": []
  }
 ],
 "metadata": {
  "kernelspec": {
   "display_name": "Python 3",
   "language": "python",
   "name": "python3"
  },
  "language_info": {
   "codemirror_mode": {
    "name": "ipython",
    "version": 3
   },
   "file_extension": ".py",
   "mimetype": "text/x-python",
   "name": "python",
   "nbconvert_exporter": "python",
   "pygments_lexer": "ipython3",
   "version": "3.9.6"
  }
 },
 "nbformat": 4,
 "nbformat_minor": 5
}
